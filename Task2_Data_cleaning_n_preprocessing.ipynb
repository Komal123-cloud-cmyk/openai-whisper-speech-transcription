{
  "nbformat": 4,
  "nbformat_minor": 0,
  "metadata": {
    "colab": {
      "provenance": [],
      "authorship_tag": "ABX9TyO9A/JOy7iLIZRjwYgNeF8M",
      "include_colab_link": true
    },
    "kernelspec": {
      "name": "python3",
      "display_name": "Python 3"
    },
    "language_info": {
      "name": "python"
    }
  },
  "cells": [
    {
      "cell_type": "markdown",
      "metadata": {
        "id": "view-in-github",
        "colab_type": "text"
      },
      "source": [
        "<a href=\"https://colab.research.google.com/github/Komal123-cloud-cmyk/openai-whisper-speech-transcription/blob/main/Task2_Data_cleaning_n_preprocessing.ipynb\" target=\"_parent\"><img src=\"https://colab.research.google.com/assets/colab-badge.svg\" alt=\"Open In Colab\"/></a>"
      ]
    },
    {
      "cell_type": "code",
      "execution_count": 1,
      "metadata": {
        "colab": {
          "base_uri": "https://localhost:8080/"
        },
        "id": "GAAVyR4ygyaW",
        "outputId": "a53a2ee2-d9fc-4711-e3b8-2b4a73cade84"
      },
      "outputs": [
        {
          "output_type": "stream",
          "name": "stdout",
          "text": [
            "<class 'pandas.core.frame.DataFrame'>\n",
            "RangeIndex: 891 entries, 0 to 890\n",
            "Data columns (total 12 columns):\n",
            " #   Column       Non-Null Count  Dtype  \n",
            "---  ------       --------------  -----  \n",
            " 0   PassengerId  891 non-null    int64  \n",
            " 1   Survived     891 non-null    int64  \n",
            " 2   Pclass       891 non-null    int64  \n",
            " 3   Name         891 non-null    object \n",
            " 4   Sex          891 non-null    object \n",
            " 5   Age          714 non-null    float64\n",
            " 6   SibSp        891 non-null    int64  \n",
            " 7   Parch        891 non-null    int64  \n",
            " 8   Ticket       891 non-null    object \n",
            " 9   Fare         891 non-null    float64\n",
            " 10  Cabin        204 non-null    object \n",
            " 11  Embarked     889 non-null    object \n",
            "dtypes: float64(2), int64(5), object(5)\n",
            "memory usage: 83.7+ KB\n"
          ]
        }
      ],
      "source": [
        "import pandas as pd\n",
        "\n",
        "# Load Titanic dataset directly (no upload needed)\n",
        "url = \"https://raw.githubusercontent.com/datasciencedojo/datasets/master/titanic.csv\"\n",
        "df = pd.read_csv(url)\n",
        "\n",
        "df.head()\n",
        "df.info()\n"
      ]
    },
    {
      "cell_type": "code",
      "source": [
        "# Fill Age with mean\n",
        "df['Age'].fillna(df['Age'].mean(), inplace=True)\n",
        "\n",
        "# Drop Cabin (too many missing values)\n",
        "df.drop(columns=['Cabin'], inplace=True)\n",
        "\n",
        "# Fill Embarked with mode\n",
        "df['Embarked'].fillna(df['Embarked'].mode()[0], inplace=True)\n"
      ],
      "metadata": {
        "colab": {
          "base_uri": "https://localhost:8080/"
        },
        "id": "B1tYFt-3hX3i",
        "outputId": "6c39315a-a530-45a3-e9a0-7d36ddb400cb"
      },
      "execution_count": 2,
      "outputs": [
        {
          "output_type": "stream",
          "name": "stderr",
          "text": [
            "/tmp/ipython-input-2705645296.py:2: FutureWarning: A value is trying to be set on a copy of a DataFrame or Series through chained assignment using an inplace method.\n",
            "The behavior will change in pandas 3.0. This inplace method will never work because the intermediate object on which we are setting values always behaves as a copy.\n",
            "\n",
            "For example, when doing 'df[col].method(value, inplace=True)', try using 'df.method({col: value}, inplace=True)' or df[col] = df[col].method(value) instead, to perform the operation inplace on the original object.\n",
            "\n",
            "\n",
            "  df['Age'].fillna(df['Age'].mean(), inplace=True)\n",
            "/tmp/ipython-input-2705645296.py:8: FutureWarning: A value is trying to be set on a copy of a DataFrame or Series through chained assignment using an inplace method.\n",
            "The behavior will change in pandas 3.0. This inplace method will never work because the intermediate object on which we are setting values always behaves as a copy.\n",
            "\n",
            "For example, when doing 'df[col].method(value, inplace=True)', try using 'df.method({col: value}, inplace=True)' or df[col] = df[col].method(value) instead, to perform the operation inplace on the original object.\n",
            "\n",
            "\n",
            "  df['Embarked'].fillna(df['Embarked'].mode()[0], inplace=True)\n"
          ]
        }
      ]
    },
    {
      "cell_type": "code",
      "source": [
        "Q1 = df['Fare'].quantile(0.25)\n",
        "Q3 = df['Fare'].quantile(0.75)\n",
        "IQR = Q3 - Q1\n",
        "\n",
        "lower = Q1 - 1.5*IQR\n",
        "upper = Q3 + 1.5*IQR\n",
        "\n",
        "# Keep only non-outliers\n",
        "df = df[(df['Fare'] >= lower) & (df['Fare'] <= upper)]\n"
      ],
      "metadata": {
        "id": "MCVvz_cuhX6Y"
      },
      "execution_count": 3,
      "outputs": []
    },
    {
      "cell_type": "code",
      "source": [
        "from sklearn.preprocessing import LabelEncoder\n",
        "\n",
        "# Label Encode Sex\n",
        "le = LabelEncoder()\n",
        "df['Sex'] = le.fit_transform(df['Sex'])  # male=1, female=0\n",
        "\n",
        "# One-Hot Encode Embarked\n",
        "df = pd.get_dummies(df, columns=['Embarked'])\n"
      ],
      "metadata": {
        "id": "HaK5KHGJhX8r"
      },
      "execution_count": 4,
      "outputs": []
    },
    {
      "cell_type": "code",
      "source": [
        "df.to_csv(\"Task2_Cleaned_Titanic.csv\", index=False)\n"
      ],
      "metadata": {
        "id": "73-r1xPmhX_N"
      },
      "execution_count": 5,
      "outputs": []
    },
    {
      "cell_type": "code",
      "source": [
        "# Check again for missing values\n",
        "print(df.isnull().sum())\n"
      ],
      "metadata": {
        "colab": {
          "base_uri": "https://localhost:8080/"
        },
        "id": "yQvUxzv7hYBr",
        "outputId": "73c84ca3-07ff-4c64-e6d6-6fadef1e24c2"
      },
      "execution_count": 6,
      "outputs": [
        {
          "output_type": "stream",
          "name": "stdout",
          "text": [
            "PassengerId    0\n",
            "Survived       0\n",
            "Pclass         0\n",
            "Name           0\n",
            "Sex            0\n",
            "Age            0\n",
            "SibSp          0\n",
            "Parch          0\n",
            "Ticket         0\n",
            "Fare           0\n",
            "Embarked_C     0\n",
            "Embarked_Q     0\n",
            "Embarked_S     0\n",
            "dtype: int64\n"
          ]
        }
      ]
    },
    {
      "cell_type": "code",
      "source": [
        "print(\"Max Fare after removing outliers:\", df['Fare'].max())\n",
        "print(\"Rows remaining:\", len(df))\n"
      ],
      "metadata": {
        "colab": {
          "base_uri": "https://localhost:8080/"
        },
        "id": "Qgj1PbwLhYDq",
        "outputId": "8234b0d8-c3d0-4a6f-e9af-dcd6f01e562f"
      },
      "execution_count": 7,
      "outputs": [
        {
          "output_type": "stream",
          "name": "stdout",
          "text": [
            "Max Fare after removing outliers: 65.0\n",
            "Rows remaining: 775\n"
          ]
        }
      ]
    },
    {
      "cell_type": "code",
      "source": [
        "print(df.head())\n",
        "print(df.dtypes)\n"
      ],
      "metadata": {
        "colab": {
          "base_uri": "https://localhost:8080/"
        },
        "id": "b6lwdq_NhYHG",
        "outputId": "a75db66e-3560-4f32-9cc5-9876902efd94"
      },
      "execution_count": 8,
      "outputs": [
        {
          "output_type": "stream",
          "name": "stdout",
          "text": [
            "   PassengerId  Survived  Pclass  \\\n",
            "0            1         0       3   \n",
            "2            3         1       3   \n",
            "3            4         1       1   \n",
            "4            5         0       3   \n",
            "5            6         0       3   \n",
            "\n",
            "                                           Name  Sex        Age  SibSp  Parch  \\\n",
            "0                       Braund, Mr. Owen Harris    1  22.000000      1      0   \n",
            "2                        Heikkinen, Miss. Laina    0  26.000000      0      0   \n",
            "3  Futrelle, Mrs. Jacques Heath (Lily May Peel)    0  35.000000      1      0   \n",
            "4                      Allen, Mr. William Henry    1  35.000000      0      0   \n",
            "5                              Moran, Mr. James    1  29.699118      0      0   \n",
            "\n",
            "             Ticket     Fare  Embarked_C  Embarked_Q  Embarked_S  \n",
            "0         A/5 21171   7.2500       False       False        True  \n",
            "2  STON/O2. 3101282   7.9250       False       False        True  \n",
            "3            113803  53.1000       False       False        True  \n",
            "4            373450   8.0500       False       False        True  \n",
            "5            330877   8.4583       False        True       False  \n",
            "PassengerId      int64\n",
            "Survived         int64\n",
            "Pclass           int64\n",
            "Name            object\n",
            "Sex              int64\n",
            "Age            float64\n",
            "SibSp            int64\n",
            "Parch            int64\n",
            "Ticket          object\n",
            "Fare           float64\n",
            "Embarked_C        bool\n",
            "Embarked_Q        bool\n",
            "Embarked_S        bool\n",
            "dtype: object\n"
          ]
        }
      ]
    },
    {
      "cell_type": "code",
      "source": [
        "print(df[['Age','Fare']].head())\n",
        "print(\"Mean of Age:\", df['Age'].mean())\n",
        "print(\"Std of Age:\", df['Age'].std())\n"
      ],
      "metadata": {
        "colab": {
          "base_uri": "https://localhost:8080/"
        },
        "id": "hfHCZtHQhuQz",
        "outputId": "0c32a9df-b093-4484-8e54-4d5fac189f38"
      },
      "execution_count": 9,
      "outputs": [
        {
          "output_type": "stream",
          "name": "stdout",
          "text": [
            "         Age     Fare\n",
            "0  22.000000   7.2500\n",
            "2  26.000000   7.9250\n",
            "3  35.000000  53.1000\n",
            "4  35.000000   8.0500\n",
            "5  29.699118   8.4583\n",
            "Mean of Age: 29.103880075901323\n",
            "Std of Age: 12.779988041967709\n"
          ]
        }
      ]
    },
    {
      "cell_type": "code",
      "source": [
        "df.info()\n"
      ],
      "metadata": {
        "colab": {
          "base_uri": "https://localhost:8080/"
        },
        "id": "k5QwwdEHhwdu",
        "outputId": "0ed11a74-0c35-44c8-b1dd-d925da0e74bc"
      },
      "execution_count": 10,
      "outputs": [
        {
          "output_type": "stream",
          "name": "stdout",
          "text": [
            "<class 'pandas.core.frame.DataFrame'>\n",
            "Index: 775 entries, 0 to 890\n",
            "Data columns (total 13 columns):\n",
            " #   Column       Non-Null Count  Dtype  \n",
            "---  ------       --------------  -----  \n",
            " 0   PassengerId  775 non-null    int64  \n",
            " 1   Survived     775 non-null    int64  \n",
            " 2   Pclass       775 non-null    int64  \n",
            " 3   Name         775 non-null    object \n",
            " 4   Sex          775 non-null    int64  \n",
            " 5   Age          775 non-null    float64\n",
            " 6   SibSp        775 non-null    int64  \n",
            " 7   Parch        775 non-null    int64  \n",
            " 8   Ticket       775 non-null    object \n",
            " 9   Fare         775 non-null    float64\n",
            " 10  Embarked_C   775 non-null    bool   \n",
            " 11  Embarked_Q   775 non-null    bool   \n",
            " 12  Embarked_S   775 non-null    bool   \n",
            "dtypes: bool(3), float64(2), int64(6), object(2)\n",
            "memory usage: 68.9+ KB\n"
          ]
        }
      ]
    }
  ]
}